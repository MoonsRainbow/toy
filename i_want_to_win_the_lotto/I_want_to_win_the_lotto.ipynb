{
 "cells": [
  {
   "cell_type": "markdown",
   "id": "b8c76cd8",
   "metadata": {},
   "source": [
    "# 로또 당첨 번호 분석해보기"
   ]
  },
  {
   "cell_type": "markdown",
   "id": "760da429",
   "metadata": {},
   "source": [
    "## 목차\n",
    "<br>\n",
    "\n",
    "1. 로또 1등 당첨 확률은 얼마나 될까?\n",
    "<br>\n",
    "\n",
    "1. 로또 1등 당첨의 모든 경우의 수를 구해볼 수 있을까?\n",
    "<br>\n",
    "\n",
    "1. 로또 1등 당첨 번호의 합계로 무언가 해볼 수 있을까?\n",
    "<br>\n",
    "\n",
    "1. 로또 1등 당첨 번호에 중심극한정리가 적용될까?\n",
    "<br>\n",
    "\n",
    "<br>\n",
    "<span style='color: orange; background-color: darkgreen;'>* 경고! 당신의 시간을 낭비할 수 있습니다.</span>"
   ]
  },
  {
   "cell_type": "markdown",
   "id": "1f8e1435",
   "metadata": {},
   "source": [
    "## 로또 1등 당첨 확률은 얼마나 될까?\n"
   ]
  },
  {
   "cell_type": "code",
   "execution_count": 1,
   "id": "f935951c",
   "metadata": {},
   "outputs": [],
   "source": [
    "numerator = 6 * 5 * 4 * 3 * 2 * 1\n",
    "denominator = 45 * 44 * 43 * 42 * 41 * 40"
   ]
  },
  {
   "cell_type": "code",
   "execution_count": 2,
   "id": "8268d462",
   "metadata": {},
   "outputs": [
    {
     "data": {
      "text/plain": [
       "'0.0000122773803998988342172683785324949212736100889742374420166015625 %'"
      ]
     },
     "execution_count": 2,
     "metadata": {},
     "output_type": "execute_result"
    }
   ],
   "source": [
    "# 1등에 당첨될 확률\n",
    "f'{(numerator / denominator) * 100:.67f} %'"
   ]
  },
  {
   "cell_type": "markdown",
   "id": "990dbc4c",
   "metadata": {},
   "source": [
    "## 로또 1등 당첨의 모든 경우의 수를 구해보자."
   ]
  },
  {
   "cell_type": "code",
   "execution_count": 3,
   "id": "5714548a",
   "metadata": {},
   "outputs": [
    {
     "data": {
      "text/plain": [
       "8145060"
      ]
     },
     "execution_count": 3,
     "metadata": {},
     "output_type": "execute_result"
    }
   ],
   "source": [
    "# 1등 당첨의 경우의 수\n",
    "int(denominator / numerator)"
   ]
  },
  {
   "cell_type": "code",
   "execution_count": 4,
   "id": "597ca346",
   "metadata": {},
   "outputs": [],
   "source": [
    "from itertools import combinations"
   ]
  },
  {
   "cell_type": "code",
   "execution_count": 7,
   "id": "0c5c8541",
   "metadata": {},
   "outputs": [],
   "source": [
    "import pandas as pd"
   ]
  },
  {
   "cell_type": "code",
   "execution_count": 5,
   "id": "a205abf8",
   "metadata": {},
   "outputs": [],
   "source": [
    "lotto_numbers = list(range(1, 46))"
   ]
  },
  {
   "cell_type": "code",
   "execution_count": 6,
   "id": "b7b23962",
   "metadata": {},
   "outputs": [
    {
     "name": "stdout",
     "output_type": "stream",
     "text": [
      "[1, 2, 3, 4, 5, 6, 7, 8, 9, 10, 11, 12, 13, 14, 15, 16, 17, 18, 19, 20, 21, 22, 23, 24, 25, 26, 27, 28, 29, 30, 31, 32, 33, 34, 35, 36, 37, 38, 39, 40, 41, 42, 43, 44, 45]\n"
     ]
    }
   ],
   "source": [
    "print(lotto_numbers)"
   ]
  },
  {
   "cell_type": "code",
   "execution_count": 8,
   "id": "47faf98e",
   "metadata": {},
   "outputs": [],
   "source": [
    "df = pd.DataFrame(list(combinations(lotto_numbers, 6)))"
   ]
  },
  {
   "cell_type": "code",
   "execution_count": 9,
   "id": "4b904157",
   "metadata": {},
   "outputs": [],
   "source": [
    "df.columns = list(range(1, 7))"
   ]
  },
  {
   "cell_type": "code",
   "execution_count": 10,
   "id": "9df8f9ac",
   "metadata": {},
   "outputs": [
    {
     "data": {
      "text/plain": [
       "(8145060, 6)"
      ]
     },
     "execution_count": 10,
     "metadata": {},
     "output_type": "execute_result"
    }
   ],
   "source": [
    "df.shape"
   ]
  },
  {
   "cell_type": "code",
   "execution_count": 11,
   "id": "df983c08",
   "metadata": {},
   "outputs": [
    {
     "data": {
      "text/html": [
       "<div>\n",
       "<style scoped>\n",
       "    .dataframe tbody tr th:only-of-type {\n",
       "        vertical-align: middle;\n",
       "    }\n",
       "\n",
       "    .dataframe tbody tr th {\n",
       "        vertical-align: top;\n",
       "    }\n",
       "\n",
       "    .dataframe thead th {\n",
       "        text-align: right;\n",
       "    }\n",
       "</style>\n",
       "<table border=\"1\" class=\"dataframe\">\n",
       "  <thead>\n",
       "    <tr style=\"text-align: right;\">\n",
       "      <th></th>\n",
       "      <th>1</th>\n",
       "      <th>2</th>\n",
       "      <th>3</th>\n",
       "      <th>4</th>\n",
       "      <th>5</th>\n",
       "      <th>6</th>\n",
       "    </tr>\n",
       "  </thead>\n",
       "  <tbody>\n",
       "    <tr>\n",
       "      <th>3810825</th>\n",
       "      <td>5</td>\n",
       "      <td>8</td>\n",
       "      <td>9</td>\n",
       "      <td>26</td>\n",
       "      <td>32</td>\n",
       "      <td>40</td>\n",
       "    </tr>\n",
       "    <tr>\n",
       "      <th>770731</th>\n",
       "      <td>1</td>\n",
       "      <td>11</td>\n",
       "      <td>13</td>\n",
       "      <td>26</td>\n",
       "      <td>31</td>\n",
       "      <td>45</td>\n",
       "    </tr>\n",
       "    <tr>\n",
       "      <th>2909945</th>\n",
       "      <td>4</td>\n",
       "      <td>5</td>\n",
       "      <td>7</td>\n",
       "      <td>10</td>\n",
       "      <td>18</td>\n",
       "      <td>38</td>\n",
       "    </tr>\n",
       "    <tr>\n",
       "      <th>3889515</th>\n",
       "      <td>5</td>\n",
       "      <td>9</td>\n",
       "      <td>13</td>\n",
       "      <td>15</td>\n",
       "      <td>28</td>\n",
       "      <td>29</td>\n",
       "    </tr>\n",
       "    <tr>\n",
       "      <th>2591301</th>\n",
       "      <td>3</td>\n",
       "      <td>11</td>\n",
       "      <td>15</td>\n",
       "      <td>20</td>\n",
       "      <td>40</td>\n",
       "      <td>44</td>\n",
       "    </tr>\n",
       "    <tr>\n",
       "      <th>2093826</th>\n",
       "      <td>3</td>\n",
       "      <td>4</td>\n",
       "      <td>10</td>\n",
       "      <td>16</td>\n",
       "      <td>37</td>\n",
       "      <td>38</td>\n",
       "    </tr>\n",
       "    <tr>\n",
       "      <th>487673</th>\n",
       "      <td>1</td>\n",
       "      <td>6</td>\n",
       "      <td>17</td>\n",
       "      <td>21</td>\n",
       "      <td>32</td>\n",
       "      <td>45</td>\n",
       "    </tr>\n",
       "    <tr>\n",
       "      <th>6457342</th>\n",
       "      <td>10</td>\n",
       "      <td>20</td>\n",
       "      <td>21</td>\n",
       "      <td>28</td>\n",
       "      <td>29</td>\n",
       "      <td>44</td>\n",
       "    </tr>\n",
       "    <tr>\n",
       "      <th>3623346</th>\n",
       "      <td>4</td>\n",
       "      <td>24</td>\n",
       "      <td>25</td>\n",
       "      <td>35</td>\n",
       "      <td>40</td>\n",
       "      <td>44</td>\n",
       "    </tr>\n",
       "    <tr>\n",
       "      <th>5597924</th>\n",
       "      <td>8</td>\n",
       "      <td>13</td>\n",
       "      <td>17</td>\n",
       "      <td>30</td>\n",
       "      <td>35</td>\n",
       "      <td>45</td>\n",
       "    </tr>\n",
       "  </tbody>\n",
       "</table>\n",
       "</div>"
      ],
      "text/plain": [
       "          1   2   3   4   5   6\n",
       "3810825   5   8   9  26  32  40\n",
       "770731    1  11  13  26  31  45\n",
       "2909945   4   5   7  10  18  38\n",
       "3889515   5   9  13  15  28  29\n",
       "2591301   3  11  15  20  40  44\n",
       "2093826   3   4  10  16  37  38\n",
       "487673    1   6  17  21  32  45\n",
       "6457342  10  20  21  28  29  44\n",
       "3623346   4  24  25  35  40  44\n",
       "5597924   8  13  17  30  35  45"
      ]
     },
     "execution_count": 11,
     "metadata": {},
     "output_type": "execute_result"
    }
   ],
   "source": [
    "df.sample(10)"
   ]
  },
  {
   "cell_type": "markdown",
   "id": "6328e98e",
   "metadata": {},
   "source": [
    "## 로또 1등 당첨 번호는 과연 공평할까?"
   ]
  },
  {
   "cell_type": "code",
   "execution_count": 12,
   "id": "e9fa5e08",
   "metadata": {},
   "outputs": [],
   "source": [
    "df_sum = df.copy(deep=True)"
   ]
  },
  {
   "cell_type": "code",
   "execution_count": 13,
   "id": "80929bdf",
   "metadata": {},
   "outputs": [],
   "source": [
    "df_sum['sum'] = df_sum[1] + df_sum[2] + df_sum[3] + df_sum[4] + df_sum[5] + df_sum[6]"
   ]
  },
  {
   "cell_type": "code",
   "execution_count": 14,
   "id": "309bd7e9",
   "metadata": {},
   "outputs": [
    {
     "data": {
      "text/html": [
       "<div>\n",
       "<style scoped>\n",
       "    .dataframe tbody tr th:only-of-type {\n",
       "        vertical-align: middle;\n",
       "    }\n",
       "\n",
       "    .dataframe tbody tr th {\n",
       "        vertical-align: top;\n",
       "    }\n",
       "\n",
       "    .dataframe thead th {\n",
       "        text-align: right;\n",
       "    }\n",
       "</style>\n",
       "<table border=\"1\" class=\"dataframe\">\n",
       "  <thead>\n",
       "    <tr style=\"text-align: right;\">\n",
       "      <th></th>\n",
       "      <th>1</th>\n",
       "      <th>2</th>\n",
       "      <th>3</th>\n",
       "      <th>4</th>\n",
       "      <th>5</th>\n",
       "      <th>6</th>\n",
       "      <th>sum</th>\n",
       "    </tr>\n",
       "  </thead>\n",
       "  <tbody>\n",
       "    <tr>\n",
       "      <th>302232</th>\n",
       "      <td>1</td>\n",
       "      <td>4</td>\n",
       "      <td>14</td>\n",
       "      <td>19</td>\n",
       "      <td>20</td>\n",
       "      <td>33</td>\n",
       "      <td>91</td>\n",
       "    </tr>\n",
       "    <tr>\n",
       "      <th>1186210</th>\n",
       "      <td>2</td>\n",
       "      <td>3</td>\n",
       "      <td>21</td>\n",
       "      <td>26</td>\n",
       "      <td>29</td>\n",
       "      <td>33</td>\n",
       "      <td>114</td>\n",
       "    </tr>\n",
       "    <tr>\n",
       "      <th>5479306</th>\n",
       "      <td>8</td>\n",
       "      <td>10</td>\n",
       "      <td>19</td>\n",
       "      <td>24</td>\n",
       "      <td>34</td>\n",
       "      <td>43</td>\n",
       "      <td>138</td>\n",
       "    </tr>\n",
       "    <tr>\n",
       "      <th>1013530</th>\n",
       "      <td>1</td>\n",
       "      <td>19</td>\n",
       "      <td>24</td>\n",
       "      <td>28</td>\n",
       "      <td>37</td>\n",
       "      <td>41</td>\n",
       "      <td>150</td>\n",
       "    </tr>\n",
       "    <tr>\n",
       "      <th>5629599</th>\n",
       "      <td>8</td>\n",
       "      <td>14</td>\n",
       "      <td>17</td>\n",
       "      <td>32</td>\n",
       "      <td>42</td>\n",
       "      <td>44</td>\n",
       "      <td>157</td>\n",
       "    </tr>\n",
       "    <tr>\n",
       "      <th>7910992</th>\n",
       "      <td>19</td>\n",
       "      <td>30</td>\n",
       "      <td>32</td>\n",
       "      <td>36</td>\n",
       "      <td>37</td>\n",
       "      <td>38</td>\n",
       "      <td>192</td>\n",
       "    </tr>\n",
       "    <tr>\n",
       "      <th>7025268</th>\n",
       "      <td>12</td>\n",
       "      <td>26</td>\n",
       "      <td>33</td>\n",
       "      <td>36</td>\n",
       "      <td>39</td>\n",
       "      <td>44</td>\n",
       "      <td>190</td>\n",
       "    </tr>\n",
       "    <tr>\n",
       "      <th>3327010</th>\n",
       "      <td>4</td>\n",
       "      <td>11</td>\n",
       "      <td>12</td>\n",
       "      <td>20</td>\n",
       "      <td>26</td>\n",
       "      <td>31</td>\n",
       "      <td>104</td>\n",
       "    </tr>\n",
       "    <tr>\n",
       "      <th>7505813</th>\n",
       "      <td>15</td>\n",
       "      <td>21</td>\n",
       "      <td>28</td>\n",
       "      <td>29</td>\n",
       "      <td>38</td>\n",
       "      <td>39</td>\n",
       "      <td>170</td>\n",
       "    </tr>\n",
       "    <tr>\n",
       "      <th>7410604</th>\n",
       "      <td>15</td>\n",
       "      <td>16</td>\n",
       "      <td>17</td>\n",
       "      <td>24</td>\n",
       "      <td>29</td>\n",
       "      <td>45</td>\n",
       "      <td>146</td>\n",
       "    </tr>\n",
       "  </tbody>\n",
       "</table>\n",
       "</div>"
      ],
      "text/plain": [
       "          1   2   3   4   5   6  sum\n",
       "302232    1   4  14  19  20  33   91\n",
       "1186210   2   3  21  26  29  33  114\n",
       "5479306   8  10  19  24  34  43  138\n",
       "1013530   1  19  24  28  37  41  150\n",
       "5629599   8  14  17  32  42  44  157\n",
       "7910992  19  30  32  36  37  38  192\n",
       "7025268  12  26  33  36  39  44  190\n",
       "3327010   4  11  12  20  26  31  104\n",
       "7505813  15  21  28  29  38  39  170\n",
       "7410604  15  16  17  24  29  45  146"
      ]
     },
     "execution_count": 14,
     "metadata": {},
     "output_type": "execute_result"
    }
   ],
   "source": [
    "df_sum.sample(10)"
   ]
  },
  {
   "cell_type": "code",
   "execution_count": 15,
   "id": "7b0bf513",
   "metadata": {},
   "outputs": [],
   "source": [
    "import seaborn as sns\n",
    "import matplotlib.pyplot as plt"
   ]
  },
  {
   "cell_type": "code",
   "execution_count": 16,
   "id": "ba028086",
   "metadata": {},
   "outputs": [
    {
     "data": {
      "text/plain": [
       "<matplotlib.pyplot._IonContext at 0x7fe01820c460>"
      ]
     },
     "execution_count": 16,
     "metadata": {},
     "output_type": "execute_result"
    }
   ],
   "source": [
    "plt.ion()"
   ]
  },
  {
   "cell_type": "code",
   "execution_count": 17,
   "id": "77ef75fe",
   "metadata": {},
   "outputs": [
    {
     "data": {
      "image/png": "[encoded data removed]",
      "text/plain": [
       "<Figure size 640x480 with 1 Axes>"
      ]
     },
     "metadata": {},
     "output_type": "display_data"
    }
   ],
   "source": [
    "sns.histplot(\n",
    "    data=df_sum,\n",
    "    x='sum'\n",
    ");"
   ]
  },
  {
   "cell_type": "code",
   "execution_count": 18,
   "id": "1ae10175",
   "metadata": {},
   "outputs": [
    {
     "data": {
      "text/html": [
       "<div>\n",
       "<style scoped>\n",
       "    .dataframe tbody tr th:only-of-type {\n",
       "        vertical-align: middle;\n",
       "    }\n",
       "\n",
       "    .dataframe tbody tr th {\n",
       "        vertical-align: top;\n",
       "    }\n",
       "\n",
       "    .dataframe thead th {\n",
       "        text-align: right;\n",
       "    }\n",
       "</style>\n",
       "<table border=\"1\" class=\"dataframe\">\n",
       "  <thead>\n",
       "    <tr style=\"text-align: right;\">\n",
       "      <th></th>\n",
       "      <th>1</th>\n",
       "      <th>2</th>\n",
       "      <th>3</th>\n",
       "      <th>4</th>\n",
       "      <th>5</th>\n",
       "      <th>6</th>\n",
       "      <th>sum</th>\n",
       "    </tr>\n",
       "  </thead>\n",
       "  <tbody>\n",
       "    <tr>\n",
       "      <th>count</th>\n",
       "      <td>8.145060e+06</td>\n",
       "      <td>8.145060e+06</td>\n",
       "      <td>8.145060e+06</td>\n",
       "      <td>8.145060e+06</td>\n",
       "      <td>8.145060e+06</td>\n",
       "      <td>8.145060e+06</td>\n",
       "      <td>8.145060e+06</td>\n",
       "    </tr>\n",
       "    <tr>\n",
       "      <th>mean</th>\n",
       "      <td>6.571429e+00</td>\n",
       "      <td>1.314286e+01</td>\n",
       "      <td>1.971429e+01</td>\n",
       "      <td>2.628571e+01</td>\n",
       "      <td>3.285714e+01</td>\n",
       "      <td>3.942857e+01</td>\n",
       "      <td>1.380000e+02</td>\n",
       "    </tr>\n",
       "    <tr>\n",
       "      <th>std</th>\n",
       "      <td>5.240151e+00</td>\n",
       "      <td>6.765006e+00</td>\n",
       "      <td>7.410693e+00</td>\n",
       "      <td>7.410693e+00</td>\n",
       "      <td>6.765006e+00</td>\n",
       "      <td>5.240151e+00</td>\n",
       "      <td>2.994996e+01</td>\n",
       "    </tr>\n",
       "    <tr>\n",
       "      <th>min</th>\n",
       "      <td>1.000000e+00</td>\n",
       "      <td>2.000000e+00</td>\n",
       "      <td>3.000000e+00</td>\n",
       "      <td>4.000000e+00</td>\n",
       "      <td>5.000000e+00</td>\n",
       "      <td>6.000000e+00</td>\n",
       "      <td>2.100000e+01</td>\n",
       "    </tr>\n",
       "    <tr>\n",
       "      <th>25%</th>\n",
       "      <td>2.000000e+00</td>\n",
       "      <td>8.000000e+00</td>\n",
       "      <td>1.400000e+01</td>\n",
       "      <td>2.100000e+01</td>\n",
       "      <td>2.800000e+01</td>\n",
       "      <td>3.700000e+01</td>\n",
       "      <td>1.170000e+02</td>\n",
       "    </tr>\n",
       "    <tr>\n",
       "      <th>50%</th>\n",
       "      <td>5.000000e+00</td>\n",
       "      <td>1.200000e+01</td>\n",
       "      <td>1.900000e+01</td>\n",
       "      <td>2.700000e+01</td>\n",
       "      <td>3.400000e+01</td>\n",
       "      <td>4.100000e+01</td>\n",
       "      <td>1.380000e+02</td>\n",
       "    </tr>\n",
       "    <tr>\n",
       "      <th>75%</th>\n",
       "      <td>9.000000e+00</td>\n",
       "      <td>1.800000e+01</td>\n",
       "      <td>2.500000e+01</td>\n",
       "      <td>3.200000e+01</td>\n",
       "      <td>3.800000e+01</td>\n",
       "      <td>4.400000e+01</td>\n",
       "      <td>1.590000e+02</td>\n",
       "    </tr>\n",
       "    <tr>\n",
       "      <th>max</th>\n",
       "      <td>4.000000e+01</td>\n",
       "      <td>4.100000e+01</td>\n",
       "      <td>4.200000e+01</td>\n",
       "      <td>4.300000e+01</td>\n",
       "      <td>4.400000e+01</td>\n",
       "      <td>4.500000e+01</td>\n",
       "      <td>2.550000e+02</td>\n",
       "    </tr>\n",
       "  </tbody>\n",
       "</table>\n",
       "</div>"
      ],
      "text/plain": [
       "                  1             2             3             4             5  \\\n",
       "count  8.145060e+06  8.145060e+06  8.145060e+06  8.145060e+06  8.145060e+06   \n",
       "mean   6.571429e+00  1.314286e+01  1.971429e+01  2.628571e+01  3.285714e+01   \n",
       "std    5.240151e+00  6.765006e+00  7.410693e+00  7.410693e+00  6.765006e+00   \n",
       "min    1.000000e+00  2.000000e+00  3.000000e+00  4.000000e+00  5.000000e+00   \n",
       "25%    2.000000e+00  8.000000e+00  1.400000e+01  2.100000e+01  2.800000e+01   \n",
       "50%    5.000000e+00  1.200000e+01  1.900000e+01  2.700000e+01  3.400000e+01   \n",
       "75%    9.000000e+00  1.800000e+01  2.500000e+01  3.200000e+01  3.800000e+01   \n",
       "max    4.000000e+01  4.100000e+01  4.200000e+01  4.300000e+01  4.400000e+01   \n",
       "\n",
       "                  6           sum  \n",
       "count  8.145060e+06  8.145060e+06  \n",
       "mean   3.942857e+01  1.380000e+02  \n",
       "std    5.240151e+00  2.994996e+01  \n",
       "min    6.000000e+00  2.100000e+01  \n",
       "25%    3.700000e+01  1.170000e+02  \n",
       "50%    4.100000e+01  1.380000e+02  \n",
       "75%    4.400000e+01  1.590000e+02  \n",
       "max    4.500000e+01  2.550000e+02  "
      ]
     },
     "execution_count": 18,
     "metadata": {},
     "output_type": "execute_result"
    }
   ],
   "source": [
    "df_sum.describe()"
   ]
  },
  {
   "cell_type": "code",
   "execution_count": 19,
   "id": "f8a4175e",
   "metadata": {},
   "outputs": [
    {
     "data": {
      "text/html": [
       "<div>\n",
       "<style scoped>\n",
       "    .dataframe tbody tr th:only-of-type {\n",
       "        vertical-align: middle;\n",
       "    }\n",
       "\n",
       "    .dataframe tbody tr th {\n",
       "        vertical-align: top;\n",
       "    }\n",
       "\n",
       "    .dataframe thead th {\n",
       "        text-align: right;\n",
       "    }\n",
       "</style>\n",
       "<table border=\"1\" class=\"dataframe\">\n",
       "  <thead>\n",
       "    <tr style=\"text-align: right;\">\n",
       "      <th></th>\n",
       "      <th>1</th>\n",
       "      <th>2</th>\n",
       "      <th>3</th>\n",
       "      <th>4</th>\n",
       "      <th>5</th>\n",
       "      <th>6</th>\n",
       "      <th>sum</th>\n",
       "    </tr>\n",
       "  </thead>\n",
       "  <tbody>\n",
       "    <tr>\n",
       "      <th>count</th>\n",
       "      <td>105690.000000</td>\n",
       "      <td>105690.000000</td>\n",
       "      <td>105690.000000</td>\n",
       "      <td>105690.000000</td>\n",
       "      <td>105690.000000</td>\n",
       "      <td>105690.000000</td>\n",
       "      <td>105690.0</td>\n",
       "    </tr>\n",
       "    <tr>\n",
       "      <th>mean</th>\n",
       "      <td>5.698713</td>\n",
       "      <td>12.079960</td>\n",
       "      <td>19.206434</td>\n",
       "      <td>26.793566</td>\n",
       "      <td>33.920040</td>\n",
       "      <td>40.301287</td>\n",
       "      <td>138.0</td>\n",
       "    </tr>\n",
       "    <tr>\n",
       "      <th>std</th>\n",
       "      <td>3.635337</td>\n",
       "      <td>4.204055</td>\n",
       "      <td>3.942977</td>\n",
       "      <td>3.942977</td>\n",
       "      <td>4.204055</td>\n",
       "      <td>3.635337</td>\n",
       "      <td>0.0</td>\n",
       "    </tr>\n",
       "    <tr>\n",
       "      <th>min</th>\n",
       "      <td>1.000000</td>\n",
       "      <td>2.000000</td>\n",
       "      <td>3.000000</td>\n",
       "      <td>14.000000</td>\n",
       "      <td>21.000000</td>\n",
       "      <td>26.000000</td>\n",
       "      <td>138.0</td>\n",
       "    </tr>\n",
       "    <tr>\n",
       "      <th>25%</th>\n",
       "      <td>3.000000</td>\n",
       "      <td>9.000000</td>\n",
       "      <td>17.000000</td>\n",
       "      <td>24.000000</td>\n",
       "      <td>31.000000</td>\n",
       "      <td>38.000000</td>\n",
       "      <td>138.0</td>\n",
       "    </tr>\n",
       "    <tr>\n",
       "      <th>50%</th>\n",
       "      <td>5.000000</td>\n",
       "      <td>12.000000</td>\n",
       "      <td>19.000000</td>\n",
       "      <td>27.000000</td>\n",
       "      <td>34.000000</td>\n",
       "      <td>41.000000</td>\n",
       "      <td>138.0</td>\n",
       "    </tr>\n",
       "    <tr>\n",
       "      <th>75%</th>\n",
       "      <td>8.000000</td>\n",
       "      <td>15.000000</td>\n",
       "      <td>22.000000</td>\n",
       "      <td>29.000000</td>\n",
       "      <td>37.000000</td>\n",
       "      <td>43.000000</td>\n",
       "      <td>138.0</td>\n",
       "    </tr>\n",
       "    <tr>\n",
       "      <th>max</th>\n",
       "      <td>20.000000</td>\n",
       "      <td>25.000000</td>\n",
       "      <td>32.000000</td>\n",
       "      <td>43.000000</td>\n",
       "      <td>44.000000</td>\n",
       "      <td>45.000000</td>\n",
       "      <td>138.0</td>\n",
       "    </tr>\n",
       "  </tbody>\n",
       "</table>\n",
       "</div>"
      ],
      "text/plain": [
       "                   1              2              3              4  \\\n",
       "count  105690.000000  105690.000000  105690.000000  105690.000000   \n",
       "mean        5.698713      12.079960      19.206434      26.793566   \n",
       "std         3.635337       4.204055       3.942977       3.942977   \n",
       "min         1.000000       2.000000       3.000000      14.000000   \n",
       "25%         3.000000       9.000000      17.000000      24.000000   \n",
       "50%         5.000000      12.000000      19.000000      27.000000   \n",
       "75%         8.000000      15.000000      22.000000      29.000000   \n",
       "max        20.000000      25.000000      32.000000      43.000000   \n",
       "\n",
       "                   5              6       sum  \n",
       "count  105690.000000  105690.000000  105690.0  \n",
       "mean       33.920040      40.301287     138.0  \n",
       "std         4.204055       3.635337       0.0  \n",
       "min        21.000000      26.000000     138.0  \n",
       "25%        31.000000      38.000000     138.0  \n",
       "50%        34.000000      41.000000     138.0  \n",
       "75%        37.000000      43.000000     138.0  \n",
       "max        44.000000      45.000000     138.0  "
      ]
     },
     "execution_count": 19,
     "metadata": {},
     "output_type": "execute_result"
    }
   ],
   "source": [
    "df_sum.loc[df_sum['sum'] == 138].describe()"
   ]
  },
  {
   "cell_type": "code",
   "execution_count": null,
   "id": "b8bffc2c",
   "metadata": {},
   "outputs": [],
   "source": []
  },
  {
   "cell_type": "markdown",
   "id": "fd26bade",
   "metadata": {},
   "source": [
    "## 로또"
   ]
  },
  {
   "cell_type": "code",
   "execution_count": null,
   "id": "5d1bcbf8",
   "metadata": {},
   "outputs": [],
   "source": [
    "df_real = pd.read_csv('./data/lotto.csv', encoding='utf-8')"
   ]
  },
  {
   "cell_type": "code",
   "execution_count": null,
   "id": "9d3388ba",
   "metadata": {},
   "outputs": [],
   "source": [
    "df_real[['연', '월', '일']] = df_real['날짜'].str.split('.', expand=True).astype(int)\n",
    "df_real = df_real.drop(columns='날짜')"
   ]
  },
  {
   "cell_type": "code",
   "execution_count": null,
   "id": "f9ee5084",
   "metadata": {},
   "outputs": [],
   "source": [
    "df_real.sample(10)"
   ]
  },
  {
   "cell_type": "code",
   "execution_count": null,
   "id": "8c337b0b",
   "metadata": {},
   "outputs": [],
   "source": [
    "df_real.info()"
   ]
  },
  {
   "cell_type": "code",
   "execution_count": null,
   "id": "75dd15fb",
   "metadata": {},
   "outputs": [],
   "source": [
    "cols = ['1등수', '1등금액', '2등수', '2등금액', '3등수', '3등금액', '4등수', '4등금액', '5등수', '5등금액']\n",
    "for col in cols:\n",
    "    if df_real[col].dtype == 'object':\n",
    "        df_real[col] = df_real[col].str.replace(',', '').astype(int)"
   ]
  },
  {
   "cell_type": "code",
   "execution_count": null,
   "id": "fadfe591",
   "metadata": {},
   "outputs": [],
   "source": [
    "df_real.sample(10)"
   ]
  },
  {
   "cell_type": "code",
   "execution_count": null,
   "id": "e90e6abd",
   "metadata": {},
   "outputs": [],
   "source": [
    "df_real.info()"
   ]
  },
  {
   "cell_type": "code",
   "execution_count": null,
   "id": "8bd09b2e",
   "metadata": {},
   "outputs": [],
   "source": [
    "df_real['sum'] = df_real['1'] + df_real['2'] + df_real['3'] + df_real['4'] + df_real['5'] + df_real['6']"
   ]
  },
  {
   "cell_type": "code",
   "execution_count": null,
   "id": "3e855dea",
   "metadata": {},
   "outputs": [],
   "source": [
    "df_real.sample(10)"
   ]
  },
  {
   "cell_type": "code",
   "execution_count": null,
   "id": "0c00a936",
   "metadata": {},
   "outputs": [],
   "source": [
    "sns.histplot(\n",
    "    data=df_real[['sum']],\n",
    "    x='sum',\n",
    "    bins=list(range(110, 171, 1))\n",
    ");"
   ]
  },
  {
   "cell_type": "code",
   "execution_count": null,
   "id": "94ab5c01",
   "metadata": {},
   "outputs": [],
   "source": [
    "sns.histplot(\n",
    "    data=df_real[['sum']],\n",
    "    x='sum',\n",
    "    bins=list(range(21, 255, 1)),\n",
    "    kde=True\n",
    ");"
   ]
  },
  {
   "cell_type": "code",
   "execution_count": null,
   "id": "ca7cb2d3",
   "metadata": {},
   "outputs": [],
   "source": [
    "df_real[['1', '2', '3', '4', '5', '6', 'sum']].astype('object').describe()"
   ]
  },
  {
   "cell_type": "code",
   "execution_count": null,
   "id": "bd4b084f",
   "metadata": {},
   "outputs": [],
   "source": [
    "df_real[['1', '2', '3', '4', '5', '6', 'sum']].describe()"
   ]
  },
  {
   "cell_type": "code",
   "execution_count": null,
   "id": "3794c042",
   "metadata": {},
   "outputs": [],
   "source": [
    "df_sum.loc[df_sum['sum'] == 138].describe()"
   ]
  },
  {
   "cell_type": "code",
   "execution_count": null,
   "id": "47273b7e",
   "metadata": {},
   "outputs": [],
   "source": [
    "import pingouin as pg"
   ]
  },
  {
   "cell_type": "code",
   "execution_count": null,
   "id": "a8524212",
   "metadata": {},
   "outputs": [],
   "source": [
    "pg.ttest(df_sum['sum'], df_real['sum'])\n",
    "# 귀무가설: 두 집단의 평균은 같다."
   ]
  },
  {
   "cell_type": "code",
   "execution_count": null,
   "id": "9c6d5004",
   "metadata": {},
   "outputs": [],
   "source": [
    "f\"{pg.compute_effsize(df_sum['sum'], df_real['sum'], eftype='eta-square') * 100:.20f}\""
   ]
  },
  {
   "cell_type": "code",
   "execution_count": null,
   "id": "02b5153c",
   "metadata": {},
   "outputs": [],
   "source": [
    "sns.boxplot(\n",
    "    data=df_sum,\n",
    "    x='sum'\n",
    ")"
   ]
  },
  {
   "cell_type": "code",
   "execution_count": null,
   "id": "0bb51e3c",
   "metadata": {},
   "outputs": [],
   "source": [
    "sns.boxplot(\n",
    "    data=df_real,\n",
    "    x='sum'\n",
    ")"
   ]
  },
  {
   "cell_type": "code",
   "execution_count": null,
   "id": "00e66d6a",
   "metadata": {},
   "outputs": [],
   "source": [
    "117, 137.5, 162"
   ]
  },
  {
   "cell_type": "code",
   "execution_count": null,
   "id": "5f708d11",
   "metadata": {},
   "outputs": [],
   "source": [
    "sns.violinplot(\n",
    "    data=df_real,\n",
    "    x='sum'\n",
    ")"
   ]
  },
  {
   "cell_type": "code",
   "execution_count": null,
   "id": "06d06638",
   "metadata": {},
   "outputs": [],
   "source": [
    "import plotly.express as px"
   ]
  },
  {
   "cell_type": "code",
   "execution_count": null,
   "id": "6ad2e5b7",
   "metadata": {},
   "outputs": [],
   "source": [
    "px.histogram(\n",
    "    data_frame=df_real,\n",
    "    x='sum',\n",
    "    nbins=150\n",
    ")"
   ]
  },
  {
   "cell_type": "code",
   "execution_count": null,
   "id": "a6c70dd0",
   "metadata": {},
   "outputs": [],
   "source": [
    "5 + 12 + 19 + 27 + 34 + 41"
   ]
  },
  {
   "cell_type": "code",
   "execution_count": null,
   "id": "8e65d92d",
   "metadata": {},
   "outputs": [],
   "source": [
    "# 5 12 19 27 34 41\n",
    "df_real.loc[\n",
    "    (df_real['1'] == 5)\n",
    "    & (df_real['2'] == 12)\n",
    "    & (df_real['3'] == 19)\n",
    "    & (df_real['4'] == 27)\n",
    "    & (df_real['5'] == 34)\n",
    "    & (df_real['6'] == 41)\n",
    "    , ['1', '2', '3', '4', '5', '6', 'sum']\n",
    "]"
   ]
  },
  {
   "cell_type": "code",
   "execution_count": null,
   "id": "39320f0b",
   "metadata": {},
   "outputs": [],
   "source": [
    "df_real['1'].value_counts()"
   ]
  },
  {
   "cell_type": "code",
   "execution_count": null,
   "id": "8b3eb983",
   "metadata": {},
   "outputs": [],
   "source": [
    "df_sum.loc[(df_sum['sum'] >= 117) & (df_sum['sum'] <= 162)].shape"
   ]
  },
  {
   "cell_type": "code",
   "execution_count": null,
   "id": "e6153e2a",
   "metadata": {},
   "outputs": [],
   "source": [
    "df_sum.loc[(df_sum['sum'] >= 117) & (df_sum['sum'] <= 162)].astype('O').describe()"
   ]
  },
  {
   "cell_type": "code",
   "execution_count": null,
   "id": "d5c122d3",
   "metadata": {},
   "outputs": [],
   "source": [
    "pd.set_option('display.max_columns', 100)"
   ]
  },
  {
   "cell_type": "code",
   "execution_count": null,
   "id": "24d88065",
   "metadata": {},
   "outputs": [],
   "source": [
    "df_real.head()"
   ]
  },
  {
   "cell_type": "code",
   "execution_count": null,
   "id": "904d0926",
   "metadata": {},
   "outputs": [],
   "source": [
    "px.line(\n",
    "    data_frame=df_real,\n",
    "    x='회차',\n",
    "    y='1'\n",
    ")"
   ]
  },
  {
   "cell_type": "code",
   "execution_count": null,
   "id": "39f53bb3",
   "metadata": {},
   "outputs": [],
   "source": [
    "pg.compute_effsize()"
   ]
  }
 ],
 "metadata": {
  "kernelspec": {
   "display_name": "Python 3 (ipykernel)",
   "language": "python",
   "name": "python3"
  },
  "language_info": {
   "codemirror_mode": {
    "name": "ipython",
    "version": 3
   },
   "file_extension": ".py",
   "mimetype": "text/x-python",
   "name": "python",
   "nbconvert_exporter": "python",
   "pygments_lexer": "ipython3",
   "version": "3.9.13"
  },
  "toc": {
   "base_numbering": 1,
   "nav_menu": {},
   "number_sections": true,
   "sideBar": true,
   "skip_h1_title": true,
   "title_cell": "Index",
   "title_sidebar": "Index",
   "toc_cell": false,
   "toc_position": {
    "height": "789px",
    "left": "133px",
    "top": "54px",
    "width": "219px"
   },
   "toc_section_display": true,
   "toc_window_display": true
  }
 },
 "nbformat": 4,
 "nbformat_minor": 5
}
